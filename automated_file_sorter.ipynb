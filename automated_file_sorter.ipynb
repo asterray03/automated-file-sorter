{
 "cells": [
  {
   "cell_type": "code",
   "execution_count": 2,
   "id": "9409a38f",
   "metadata": {},
   "outputs": [],
   "source": [
    "import os, shutil"
   ]
  },
  {
   "cell_type": "code",
   "execution_count": 3,
   "id": "5eac745a",
   "metadata": {},
   "outputs": [],
   "source": [
    "path = r\"C:/Users/areey/Downloads/\""
   ]
  },
  {
   "cell_type": "code",
   "execution_count": null,
   "id": "a26b8fb7",
   "metadata": {},
   "outputs": [],
   "source": [
    "file_name=os.listdir(path)"
   ]
  },
  {
   "cell_type": "code",
   "execution_count": 10,
   "id": "e254fc78",
   "metadata": {},
   "outputs": [
    {
     "name": "stdout",
     "output_type": "stream",
     "text": [
      "C:/Users/areey/Downloads/pdf files\n",
      "C:/Users/areey/Downloads/ppt files\n"
     ]
    }
   ],
   "source": [
    "folder_names=['csv files','image files','msword files','pdf files','text files','ppt files']\n",
    "for loop in range(0,6):\n",
    "    if not os.path.exists(path+folder_names[loop]):\n",
    "        print(path+folder_names[loop])\n",
    "        os.makedirs(path+folder_names[loop])"
   ]
  },
  {
   "cell_type": "code",
   "execution_count": 12,
   "metadata": {},
   "outputs": [],
   "source": [
    "for file in file_name:\n",
    "    if '.csv' in file and not os.path.exists(path + 'csv files/'+file):\n",
    "        shutil.move(path+file,path+'csv files/'+ file)\n",
    "    if '.png' in file and not os.path.exists(path + 'image files/'+file):\n",
    "        shutil.move(path+file,path+'image files/'+ file)\n",
    "    if '.docx' in file and not os.path.exists(path + 'msword files/'+file):\n",
    "        shutil.move(path+file,path+'msword files/'+ file)\n",
    "    if '.pdf' in file and not os.path.exists(path + 'pdf files/'+file):\n",
    "        shutil.move(path+file,path+'pdf files/'+ file)\n",
    "    if '.txt' in file and not os.path.exists(path + 'text files/'+file):\n",
    "        shutil.move(path+file,path+'text files/'+ file)\n",
    "    if '.pptx' in file and not os.path.exists(path + 'ppt files/'+file):\n",
    "        shutil.move(path+file,path+'ppt files/'+ file)"
   ]
  },
  {
   "cell_type": "code",
   "execution_count": null,
   "id": "43d82507",
   "metadata": {},
   "outputs": [],
   "source": []
  },
  {
   "cell_type": "code",
   "execution_count": null,
   "id": "049d91c9",
   "metadata": {},
   "outputs": [],
   "source": []
  },
  {
   "cell_type": "code",
   "execution_count": null,
   "id": "e489b6e9",
   "metadata": {},
   "outputs": [],
   "source": []
  }
 ],
 "metadata": {
  "kernelspec": {
   "display_name": "Python 3",
   "language": "python",
   "name": "python3"
  },
  "language_info": {
   "codemirror_mode": {
    "name": "ipython",
    "version": 3
   },
   "file_extension": ".py",
   "mimetype": "text/x-python",
   "name": "python",
   "nbconvert_exporter": "python",
   "pygments_lexer": "ipython3",
   "version": "3.10.0"
  }
 },
 "nbformat": 4,
 "nbformat_minor": 5
}
